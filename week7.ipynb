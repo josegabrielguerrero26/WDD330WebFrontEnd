{
 "cells": [
  {
   "cell_type": "markdown",
   "metadata": {},
   "source": [
    "# Note Taking week 7"
   ]
  },
  {
   "cell_type": "markdown",
   "metadata": {},
   "source": [
    "### Material Information"
   ]
  },
  {
   "cell_type": "markdown",
   "metadata": {},
   "source": [
    "- Watch 4.4 Object Methods, \"This\". If the concept of this still is a bit unclear, you can continue with either this article: This in JavaScript OR this video: What is THIS keyword in JS (The concepts in the video are very well explained...but there are a couple of 'bleeped' out profanities! ) https://javascript.info/object-methods https://www.youtube.com/watch?v=fVXp7ZWjlO4\n",
    "\n",
    "- Read 5.2 CSS Animations https://javascript.info/css-animations"
   ]
  },
  {
   "cell_type": "markdown",
   "metadata": {},
   "source": [
    "## Readings- Videos"
   ]
  },
  {
   "cell_type": "markdown",
   "metadata": {},
   "source": [
    "### Object Methods \"This\""
   ]
  },
  {
   "cell_type": "markdown",
   "metadata": {},
   "source": [
    "Objects created to represent an entity: users, orders, a thing.\n",
    "\n",
    "Objects can act in JS are called functions in properties\n",
    "\n",
    "A function that is a property of an object is called its method."
   ]
  },
  {
   "cell_type": "code",
   "execution_count": 2,
   "metadata": {},
   "outputs": [
    {
     "data": {
      "text/plain": [
       "'javascript\\n\\nlet user = {\\n  name: \"John\",\\n  age: 30\\n};\\n\\nuser.sayHi = function() {\\n  alert(\"Hello!\");\\n};\\n\\nuser.sayHi(); // Hello!\\n\\n'"
      ]
     },
     "execution_count": 2,
     "metadata": {},
     "output_type": "execute_result"
    }
   ],
   "source": [
    "'''javascript\n",
    "\n",
    "let user = {\n",
    "  name: \"John\",\n",
    "  age: 30\n",
    "};\n",
    "\n",
    "user.sayHi = function() {\n",
    "  alert(\"Hello!\");\n",
    "};\n",
    "\n",
    "user.sayHi(); // Hello!\n",
    "\n",
    "'''"
   ]
  },
  {
   "cell_type": "markdown",
   "metadata": {},
   "source": [
    "To access the object, a method can use the this keyword.This"
   ]
  },
  {
   "cell_type": "code",
   "execution_count": 1,
   "metadata": {},
   "outputs": [
    {
     "data": {
      "text/plain": [
       "'javascript\\nlet user = {\\n  name: \"John\",\\n  age: 30,\\n\\n  sayHi() {\\n    // \"this\" is the \"current object\"\\n    alert(this.name);\\n  }\\n\\n};\\n\\nuser.sayHi(); // John\\n'"
      ]
     },
     "execution_count": 1,
     "metadata": {},
     "output_type": "execute_result"
    }
   ],
   "source": [
    "'''javascript\n",
    "let user = {\n",
    "  name: \"John\",\n",
    "  age: 30,\n",
    "\n",
    "  sayHi() {\n",
    "    // \"this\" is the \"current object\"\n",
    "    alert(this.name);\n",
    "  }\n",
    "\n",
    "};\n",
    "\n",
    "user.sayHi(); // John\n",
    "'''"
   ]
  },
  {
   "cell_type": "markdown",
   "metadata": {},
   "source": [
    "This is word that can take differents forms:\n",
    "\n",
    "- this in global context\n",
    "- this in object construction\n",
    "- this in an object method\n",
    "- this in a simple function\n",
    "- this in an arrow function\n",
    "- this in an event listener"
   ]
  },
  {
   "cell_type": "markdown",
   "metadata": {},
   "source": [
    "Methods are fancy words for functions that are associated with an object,"
   ]
  },
  {
   "cell_type": "code",
   "execution_count": 2,
   "metadata": {},
   "outputs": [
    {
     "data": {
      "text/plain": [
       "\"javascript\\n\\nfunction Human(name) {\\n  return {\\n    name,\\n    getName() {\\n      return this.name\\n    },\\n  }\\n}\\n\\nconst zell = new Human('Zell')\\nconst vincy = new Human('Vincy')\\n\\nconsole.log(zell.getName()) // Zell\""
      ]
     },
     "execution_count": 2,
     "metadata": {},
     "output_type": "execute_result"
    }
   ],
   "source": [
    "'''javascript\n",
    "\n",
    "function Human(name) {\n",
    "  return {\n",
    "    name,\n",
    "    getName() {\n",
    "      return this.name\n",
    "    },\n",
    "  }\n",
    "}\n",
    "\n",
    "const zell = new Human('Zell')\n",
    "const vincy = new Human('Vincy')\n",
    "\n",
    "console.log(zell.getName()) // Zell'''"
   ]
  },
  {
   "cell_type": "markdown",
   "metadata": {},
   "source": [
    "Important Information:\n",
    "\n",
    "- This change value based on the context\n",
    "- Binding can be pass to any function and will override the values."
   ]
  },
  {
   "cell_type": "markdown",
   "metadata": {},
   "source": [
    "## CSS-animations"
   ]
  },
  {
   "cell_type": "markdown",
   "metadata": {},
   "source": [
    "-CSS animations make it possible to do simple animations without JavaScript at all"
   ]
  },
  {
   "cell_type": "code",
   "execution_count": 5,
   "metadata": {},
   "outputs": [
    {
     "data": {
      "text/plain": [
       "'css\\nbutton id=\"color\">Click me</button>\\n\\n<style>\\n  #color {\\n    transition-property: background-color;\\n    transition-duration: 3s;\\n  }\\n</style>\\n\\n<script>\\n  color.onclick = function() {\\n    this.style.backgroundColor = \\'red\\';\\n  };\\n</script>\\n'"
      ]
     },
     "execution_count": 5,
     "metadata": {},
     "output_type": "execute_result"
    }
   ],
   "source": [
    "'''css\n",
    "button id=\"color\">Click me</button>\n",
    "\n",
    "<style>\n",
    "  #color {\n",
    "    transition-property: background-color;\n",
    "    transition-duration: 3s;\n",
    "  }\n",
    "</style>\n",
    "\n",
    "<script>\n",
    "  color.onclick = function() {\n",
    "    this.style.backgroundColor = 'red';\n",
    "  };\n",
    "</script>\n",
    "'''\n"
   ]
  },
  {
   "cell_type": "markdown",
   "metadata": {},
   "source": [
    "- transition-property\n",
    "- transition-duration\n",
    "- transition-timing-function\n",
    "- transition-delay"
   ]
  },
  {
   "cell_type": "markdown",
   "metadata": {},
   "source": [
    "Beizer Curve\n",
    "\n",
    "The timing function can be set as a Bezier curve with 4 control points that satisfy the conditions:\n",
    "\n",
    "First control point: (0,0).\n",
    "Last control point: (1,1).\n",
    "For intermediate points, the values of x must be in the interval 0..1, y can be anything."
   ]
  },
  {
   "cell_type": "code",
   "execution_count": 6,
   "metadata": {},
   "outputs": [
    {
     "data": {
      "text/plain": [
       "'javascript\\n#moving train\\n.train {\\n  left: 0;\\n  transition: left 5s cubic-bezier(0, .5, .5, 1);\\n  /* click on a train sets left to 450px, thus triggering the animation */\\n}\\n\\n\\n'"
      ]
     },
     "execution_count": 6,
     "metadata": {},
     "output_type": "execute_result"
    }
   ],
   "source": [
    "'''javascript\n",
    "#moving train\n",
    ".train {\n",
    "  left: 0;\n",
    "  transition: left 5s cubic-bezier(0, .5, .5, 1);\n",
    "  /* click on a train sets left to 450px, thus triggering the animation */\n",
    "}\n",
    "\n",
    "\n",
    "'''"
   ]
  },
  {
   "cell_type": "markdown",
   "metadata": {},
   "source": [
    "Event: “transitionend”"
   ]
  },
  {
   "cell_type": "markdown",
   "metadata": {},
   "source": [
    "When the CSS animation finishes, the transitionend event triggers.\n",
    " animation is initiated by the function go that re-runs each time the transition finishes, and flips the direction:"
   ]
  },
  {
   "cell_type": "code",
   "execution_count": 7,
   "metadata": {},
   "outputs": [
    {
     "data": {
      "text/plain": [
       "\"javascript\\n\\nboat.onclick = function() {\\n  //...\\n  let times = 1;\\n\\n  function go() {\\n    if (times % 2) {\\n      // sail to the right\\n      boat.classList.remove('back');\\n      boat.style.marginLeft = 100 * times + 200 + 'px';\\n    } else {\\n      // sail to the left\\n      boat.classList.add('back');\\n      boat.style.marginLeft = 100 * times - 200 + 'px';\\n    }\\n\\n  }\\n\\n  go();\\n\\n  boat.addEventListener('transitionend', function() {\\n    times++;\\n    go();\\n  });\\n};\\n\\n\\n\""
      ]
     },
     "execution_count": 7,
     "metadata": {},
     "output_type": "execute_result"
    }
   ],
   "source": [
    "'''javascript\n",
    "\n",
    "boat.onclick = function() {\n",
    "  //...\n",
    "  let times = 1;\n",
    "\n",
    "  function go() {\n",
    "    if (times % 2) {\n",
    "      // sail to the right\n",
    "      boat.classList.remove('back');\n",
    "      boat.style.marginLeft = 100 * times + 200 + 'px';\n",
    "    } else {\n",
    "      // sail to the left\n",
    "      boat.classList.add('back');\n",
    "      boat.style.marginLeft = 100 * times - 200 + 'px';\n",
    "    }\n",
    "\n",
    "  }\n",
    "\n",
    "  go();\n",
    "\n",
    "  boat.addEventListener('transitionend', function() {\n",
    "    times++;\n",
    "    go();\n",
    "  });\n",
    "};\n",
    "\n",
    "\n",
    "'''"
   ]
  },
  {
   "cell_type": "markdown",
   "metadata": {},
   "source": [
    "1. Layout: re-compute the geometry and position of each element, then\n",
    "2. Paint: re-compute how everything should look like at their places, including background, colors,\n",
    "3. Composite: render the final results into pixels on screen, apply CSS transforms if they exist.\n"
   ]
  },
  {
   "cell_type": "code",
   "execution_count": 8,
   "metadata": {},
   "outputs": [
    {
     "data": {
      "text/plain": [
       "'javascript\\n\\n<img src=\"https://js.cx/clipart/boat.png\" id=\"boat\">\\n\\n<style>\\n#boat {\\n  cursor: pointer;\\n  transition: transform 2s ease-in-out, opacity 2s ease-in-out;\\n}\\n\\n.move {\\n  transform: translateX(300px);\\n  opacity: 0;\\n}\\n</style>\\n<script>\\n  boat.onclick = () => boat.classList.add(\\'move\\');\\n</script>\\n'"
      ]
     },
     "execution_count": 8,
     "metadata": {},
     "output_type": "execute_result"
    }
   ],
   "source": [
    "'''javascript\n",
    "\n",
    "<img src=\"https://js.cx/clipart/boat.png\" id=\"boat\">\n",
    "\n",
    "<style>\n",
    "#boat {\n",
    "  cursor: pointer;\n",
    "  transition: transform 2s ease-in-out, opacity 2s ease-in-out;\n",
    "}\n",
    "\n",
    ".move {\n",
    "  transform: translateX(300px);\n",
    "  opacity: 0;\n",
    "}\n",
    "</style>\n",
    "<script>\n",
    "  boat.onclick = () => boat.classList.add('move');\n",
    "</script>\n",
    "'''\n",
    "\n",
    "\n",
    "#ocapacity"
   ]
  },
  {
   "cell_type": "markdown",
   "metadata": {},
   "source": [
    "# Questions"
   ]
  },
  {
   "cell_type": "markdown",
   "metadata": {},
   "source": [
    "- No questions but the concept of \"This\" is not as easy as it seems. It can be used in several way and context is important to understand."
   ]
  }
 ],
 "metadata": {
  "kernelspec": {
   "display_name": "base",
   "language": "python",
   "name": "python3"
  },
  "language_info": {
   "codemirror_mode": {
    "name": "ipython",
    "version": 3
   },
   "file_extension": ".py",
   "mimetype": "text/x-python",
   "name": "python",
   "nbconvert_exporter": "python",
   "pygments_lexer": "ipython3",
   "version": "3.8.8"
  }
 },
 "nbformat": 4,
 "nbformat_minor": 2
}
