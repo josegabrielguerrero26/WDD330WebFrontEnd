{
 "cells": [
  {
   "cell_type": "markdown",
   "metadata": {},
   "source": [
    "# Note Taking week 10"
   ]
  },
  {
   "cell_type": "markdown",
   "metadata": {},
   "source": [
    "### Material Information"
   ]
  },
  {
   "cell_type": "markdown",
   "metadata": {},
   "source": [
    "-Watch An Introduction to Functions, Execution Context and the Call Stack (22min)\n",
    "https://www.youtube.com/watch?v=exrc_rLj5iw\n",
    "\n",
    "-Watch How to Understand Callbacks & Higher Order Functions (40min)\n",
    "https://www.youtube.com/watch?v=viQz4nUUnpw"
   ]
  },
  {
   "cell_type": "markdown",
   "metadata": {},
   "source": [
    "## Readings- Videos"
   ]
  },
  {
   "cell_type": "markdown",
   "metadata": {},
   "source": [
    "### Functions, Execution Context and the Calss Stack"
   ]
  },
  {
   "cell_type": "markdown",
   "metadata": {},
   "source": [
    "- it goes line by line\n",
    "- storing in memory\n",
    "- execution context: the memory plus the line by line code\n",
    "- create functions and functions are created but no executed\n",
    "\n",
    "        1. this create a local memory\n",
    "        \n",
    "        2. this local is not the same than the global\n",
    "\n",
    "        3. parentheses and return tell to stop \n",
    "\n",
    "        4. the output return to the global variable\n",
    "\n",
    "- Call Stack: is tracking the functions and context being called "
   ]
  },
  {
   "cell_type": "markdown",
   "metadata": {},
   "source": [
    "### Understand Callbacks & Higher Order Functions"
   ]
  },
  {
   "cell_type": "markdown",
   "metadata": {},
   "source": [
    "- there are regular functions and other functions from library  \n",
    "- function are created to facilitate reusability by generalizing the function\n",
    "- Revise the function with multiplication and division\n",
    "    1. the function goes to the process explain before\n",
    "- We can use the output from other function as input for other function.\n",
    "-\n"
   ]
  },
  {
   "cell_type": "markdown",
   "metadata": {},
   "source": [
    "# Questions"
   ]
  },
  {
   "cell_type": "markdown",
   "metadata": {},
   "source": [
    "N/A"
   ]
  }
 ],
 "metadata": {
  "kernelspec": {
   "display_name": "base",
   "language": "python",
   "name": "python3"
  },
  "language_info": {
   "codemirror_mode": {
    "name": "ipython",
    "version": 3
   },
   "file_extension": ".py",
   "mimetype": "text/x-python",
   "name": "python",
   "nbconvert_exporter": "python",
   "pygments_lexer": "ipython3",
   "version": "3.8.8"
  }
 },
 "nbformat": 4,
 "nbformat_minor": 2
}
