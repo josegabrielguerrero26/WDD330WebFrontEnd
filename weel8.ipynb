{
 "cells": [
  {
   "cell_type": "markdown",
   "metadata": {},
   "source": [
    "# Note Taking week 8"
   ]
  },
  {
   "cell_type": "markdown",
   "metadata": {},
   "source": [
    "### Material Information"
   ]
  },
  {
   "cell_type": "markdown",
   "metadata": {},
   "source": [
    "- JSON WEB TOKEN https://auth0.com/learn/json-web-tokens/?_ga=2.184084847.834837117.1611866055-1405126930.1611866055\n",
    "\n",
    "- Develop debug and learn https://www.youtube.com/watch?v=m4t7cLFksls"
   ]
  },
  {
   "cell_type": "markdown",
   "metadata": {},
   "source": [
    "## Readings- Videos"
   ]
  },
  {
   "cell_type": "markdown",
   "metadata": {},
   "source": [
    "### JSON WEB TOKEN"
   ]
  },
  {
   "cell_type": "markdown",
   "metadata": {},
   "source": [
    " A compact and self-contained way for securely transmitting information between parties as a JSON object.\n",
    "\n",
    " Digitally signed\n",
    "\n",
    " USe a HMAC algorithm or a public/private key pair using RSA."
   ]
  },
  {
   "cell_type": "markdown",
   "metadata": {},
   "source": [
    "1. Compact: Because of its size, it can be sent through an URL, POST parameter, or inside an HTTP header. Additionally, due to its size its transmission is fast.\n",
    "2. Self-contained: The payload contains all the required information about the user, to avoid querying the database more than once."
   ]
  },
  {
   "cell_type": "markdown",
   "metadata": {},
   "source": [
    "### When should you use JSON Web Tokens?\n"
   ]
  },
  {
   "cell_type": "markdown",
   "metadata": {},
   "source": [
    "Authentificacion: Once is logged it can be continue flowing of information\n",
    "\n",
    "Information Exchange: secure transger of information"
   ]
  },
  {
   "cell_type": "markdown",
   "metadata": {},
   "source": [
    "### Structure"
   ]
  },
  {
   "cell_type": "markdown",
   "metadata": {},
   "source": [
    "- Header: Type of toekn and algorithm\n",
    "- Payload: Containes the claims\n",
    "- Signature: encoded header payload and secret"
   ]
  },
  {
   "cell_type": "markdown",
   "metadata": {},
   "source": [
    "### Why should I use it"
   ]
  },
  {
   "cell_type": "markdown",
   "metadata": {},
   "source": [
    "- Smaller in size\n",
    "- Security\n",
    "- JSON parsers are common in most programming languages"
   ]
  },
  {
   "cell_type": "markdown",
   "metadata": {},
   "source": [
    "### Develop, Debug and Learn"
   ]
  },
  {
   "cell_type": "markdown",
   "metadata": {},
   "source": [
    "- In the browser you can Develop, debug and learn\n",
    "- Use and rely on other people code(libraries) to create my code\n",
    "- libraries and frameworks change so fast. When you master the first one, it is already obsolete. \n",
    "- Full stackoverflow: copy and paste other´s people code when your code is not working. 150MB of no sense code that you may not need.\n",
    "- Mentally exhausted for too many documentation and different tools.\n",
    "- Rethinking tooling: Develop, Learn, debug\n",
    "- Now you dont need to dowload stuff you can run it online or running in the background.\n",
    "- You can see a previous of what you´re building in the editor (VSC). No need to run it online."
   ]
  },
  {
   "cell_type": "markdown",
   "metadata": {},
   "source": [
    "# Questions"
   ]
  },
  {
   "cell_type": "markdown",
   "metadata": {},
   "source": [
    "No for thie week"
   ]
  }
 ],
 "metadata": {
  "kernelspec": {
   "display_name": "base",
   "language": "python",
   "name": "python3"
  },
  "language_info": {
   "codemirror_mode": {
    "name": "ipython",
    "version": 3
   },
   "file_extension": ".py",
   "mimetype": "text/x-python",
   "name": "python",
   "nbconvert_exporter": "python",
   "pygments_lexer": "ipython3",
   "version": "3.8.8"
  }
 },
 "nbformat": 4,
 "nbformat_minor": 2
}
