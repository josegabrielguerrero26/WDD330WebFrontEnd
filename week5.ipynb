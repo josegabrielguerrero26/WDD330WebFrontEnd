{
 "cells": [
  {
   "cell_type": "markdown",
   "metadata": {},
   "source": [
    "## Note Taking Week 5:\n",
    "Fetch and others"
   ]
  },
  {
   "cell_type": "markdown",
   "metadata": {},
   "source": [
    "### Material information week\n",
    "\n"
   ]
  },
  {
   "cell_type": "markdown",
   "metadata": {},
   "source": [
    "https://javascript.info/fetch\n",
    "\n",
    "https://javascript.info/fetch-crossorigin\n",
    "\n",
    "https://javascript.info/rest-parameters-spread\n",
    "\n",
    "https://blog.pshrmn.com/how-single-page-applications-work/\n",
    "\n",
    "https://gomakethings.com/the-problem-with-single-page-apps/"
   ]
  },
  {
   "cell_type": "markdown",
   "metadata": {},
   "source": [
    "## Readings"
   ]
  },
  {
   "cell_type": "markdown",
   "metadata": {},
   "source": [
    "### Fetch\n"
   ]
  },
  {
   "cell_type": "markdown",
   "metadata": {},
   "source": [
    "Send network requests to the server and load new information whenever it’s needed \n",
    "And all of that without reloading the page\n",
    "- Submit an order,\n",
    "- Load user information,\n",
    "- Receive latest updates from the server,"
   ]
  },
  {
   "cell_type": "markdown",
   "metadata": {},
   "source": [
    "Syntaxis\n",
    "url – the URL to access.\n",
    "options – optional parameters: method, headers etc."
   ]
  },
  {
   "cell_type": "code",
   "execution_count": 2,
   "metadata": {},
   "outputs": [
    {
     "data": {
      "text/plain": [
       "'javascript\\nlet response = await fetch(url);\\n\\nif (response.ok) { // if HTTP-status is 200-299\\n  // get the response body (the method explained below)\\n  let json = await response.json();\\n} else {\\n  alert(\"HTTP-Error: \" + response.status);\\n}\\n'"
      ]
     },
     "execution_count": 2,
     "metadata": {},
     "output_type": "execute_result"
    }
   ],
   "source": [
    "'''javascript\n",
    "let response = await fetch(url);\n",
    "\n",
    "if (response.ok) { // if HTTP-status is 200-299\n",
    "  // get the response body (the method explained below)\n",
    "  let json = await response.json();\n",
    "} else {\n",
    "  alert(\"HTTP-Error: \" + response.status);\n",
    "}\n",
    "'''"
   ]
  },
  {
   "cell_type": "markdown",
   "metadata": {},
   "source": [
    "1. Console\n",
    "2. Breakpoints: point to pause the code for inspection\n",
    "3. The command \"debugger \""
   ]
  },
  {
   "cell_type": "markdown",
   "metadata": {},
   "source": [
    "Look around"
   ]
  },
  {
   "cell_type": "markdown",
   "metadata": {},
   "source": [
    "- Watch: current values\n",
    "- call stack: nested chains\n",
    "- scope: current variables\n",
    "- Resume”: continue the execution, hotkey \n",
    "- Step: run the next command\n",
    "- Step Over: run the next command and don´t go into a function\n",
    "- step into: asynchronous call\n",
    "- Step out: continue execution till the end\n",
    "- Logging. console.log (testing points)"
   ]
  },
  {
   "cell_type": "markdown",
   "metadata": {},
   "source": [
    "### Coding Style"
   ]
  },
  {
   "cell_type": "markdown",
   "metadata": {},
   "source": [
    "- Our code must be as clean and easy to read as possible.\n",
    "- Opening and closing in the same line\n",
    "- space before the opening break\n",
    "- A brief code one line is allowed \n",
    "- Long code has to be split in readable size lines\n",
    "- Two kind of indent: 2 and 4 spaces\n",
    "- Semicolon after every statement \n",
    "- Nesting Levels avoid too many levels\n",
    "- Automatic Linters check the style of your code \n",
    "    1. JSLint – one of the first linters.\n",
    "    2. JSHint – more settings than JSLint.\n",
    "    3. ESLint – probably the newest one.\n"
   ]
  },
  {
   "cell_type": "markdown",
   "metadata": {},
   "source": [
    "### Error handling, \"try...catch\""
   ]
  },
  {
   "cell_type": "markdown",
   "metadata": {},
   "source": [
    "- Catch errors instead of the program died.\n"
   ]
  },
  {
   "cell_type": "code",
   "execution_count": null,
   "metadata": {},
   "outputs": [],
   "source": [
    "'''javascript\n",
    "try {\n",
    "\n",
    "  // code...\n",
    "\n",
    "} catch (err) {\n",
    "\n",
    "  // error handling\n",
    "\n",
    "}\n",
    "'''"
   ]
  },
  {
   "cell_type": "code",
   "execution_count": null,
   "metadata": {},
   "outputs": [],
   "source": [
    "'''javascript\n",
    "try {\n",
    "\n",
    "  alert('Start of try runs');  // (1) <--\n",
    "\n",
    "  lalala; // error, variable is not defined!\n",
    "\n",
    "  alert('End of try (never reached)');  // (2)\n",
    "\n",
    "} catch (err) {\n",
    "\n",
    "  alert(`Error has occurred!`); // (3) <--\n",
    "\n",
    "}\n",
    "'''"
   ]
  },
  {
   "cell_type": "code",
   "execution_count": null,
   "metadata": {},
   "outputs": [],
   "source": [
    "#using catch\n",
    "'''javascript\n",
    "\n",
    "let json = '{\"name\":\"John\", \"age\": 30}'; // data from the server\n",
    "\n",
    "let user = JSON.parse(json); // convert the text representation to JS object\n",
    "\n",
    "// now user is an object with properties from the string\n",
    "alert( user.name ); // John\n",
    "alert( user.age );  // 30\n",
    "\n"
   ]
  },
  {
   "cell_type": "markdown",
   "metadata": {},
   "source": [
    "Own Errros"
   ]
  },
  {
   "cell_type": "code",
   "execution_count": null,
   "metadata": {},
   "outputs": [],
   "source": [
    "'''javascript\n",
    "let json = '{ \"age\": 30 }'; // incomplete data\n",
    "\n",
    "try {\n",
    "\n",
    "  let user = JSON.parse(json); // <-- no errors\n",
    "  alert( user.name ); // no name!\n",
    "\n",
    "} catch (err) {\n",
    "  alert( \"doesn't execute\" );\n",
    "}\n",
    "\n",
    "\n",
    "\n",
    "\n",
    "'''"
   ]
  },
  {
   "cell_type": "markdown",
   "metadata": {},
   "source": [
    "## Questions"
   ]
  },
  {
   "cell_type": "markdown",
   "metadata": {},
   "source": [
    "- No questions this week"
   ]
  }
 ],
 "metadata": {
  "kernelspec": {
   "display_name": "base",
   "language": "python",
   "name": "python3"
  },
  "language_info": {
   "codemirror_mode": {
    "name": "ipython",
    "version": 3
   },
   "file_extension": ".py",
   "mimetype": "text/x-python",
   "name": "python",
   "nbconvert_exporter": "python",
   "pygments_lexer": "ipython3",
   "version": "3.8.8"
  }
 },
 "nbformat": 4,
 "nbformat_minor": 2
}
