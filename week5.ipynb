{
 "cells": [
  {
   "cell_type": "markdown",
   "metadata": {},
   "source": [
    "## Note Taking Week 5:\n",
    "Fetch and others"
   ]
  },
  {
   "cell_type": "markdown",
   "metadata": {},
   "source": [
    "### Material information week\n",
    "\n"
   ]
  },
  {
   "cell_type": "markdown",
   "metadata": {},
   "source": [
    "https://javascript.info/fetch\n",
    "\n",
    "https://javascript.info/fetch-crossorigin\n",
    "\n",
    "https://javascript.info/rest-parameters-spread\n",
    "\n",
    "https://blog.pshrmn.com/how-single-page-applications-work/\n",
    "\n",
    "https://gomakethings.com/the-problem-with-single-page-apps/"
   ]
  },
  {
   "cell_type": "markdown",
   "metadata": {},
   "source": [
    "## Readings"
   ]
  },
  {
   "cell_type": "markdown",
   "metadata": {},
   "source": [
    "### Fetch\n"
   ]
  },
  {
   "cell_type": "markdown",
   "metadata": {},
   "source": [
    "Send network requests to the server and load new information whenever it’s needed \n",
    "And all of that without reloading the page\n",
    "- Submit an order,\n",
    "- Load user information,\n",
    "- Receive latest updates from the server,"
   ]
  },
  {
   "cell_type": "markdown",
   "metadata": {},
   "source": [
    "Syntaxis\n",
    "url – the URL to access.\n",
    "options – optional parameters: method, headers etc."
   ]
  },
  {
   "cell_type": "code",
   "execution_count": 2,
   "metadata": {},
   "outputs": [
    {
     "data": {
      "text/plain": [
       "'javascript\\nlet response = await fetch(url);\\n\\nif (response.ok) { // if HTTP-status is 200-299\\n  // get the response body (the method explained below)\\n  let json = await response.json();\\n} else {\\n  alert(\"HTTP-Error: \" + response.status);\\n}\\n'"
      ]
     },
     "execution_count": 2,
     "metadata": {},
     "output_type": "execute_result"
    }
   ],
   "source": [
    "'''javascript\n",
    "let response = await fetch(url);\n",
    "\n",
    "if (response.ok) { // if HTTP-status is 200-299\n",
    "  // get the response body (the method explained below)\n",
    "  let json = await response.json();\n",
    "} else {\n",
    "  alert(\"HTTP-Error: \" + response.status);\n",
    "}\n",
    "'''"
   ]
  },
  {
   "cell_type": "markdown",
   "metadata": {},
   "source": [
    "## Questions"
   ]
  },
  {
   "cell_type": "markdown",
   "metadata": {},
   "source": [
    "- No questions this week"
   ]
  }
 ],
 "metadata": {
  "kernelspec": {
   "display_name": "base",
   "language": "python",
   "name": "python3"
  },
  "language_info": {
   "codemirror_mode": {
    "name": "ipython",
    "version": 3
   },
   "file_extension": ".py",
   "mimetype": "text/x-python",
   "name": "python",
   "nbconvert_exporter": "python",
   "pygments_lexer": "ipython3",
   "version": "3.8.8"
  }
 },
 "nbformat": 4,
 "nbformat_minor": 2
}
