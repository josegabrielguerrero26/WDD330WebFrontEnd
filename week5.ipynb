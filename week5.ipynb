{
 "cells": [
  {
   "cell_type": "markdown",
   "metadata": {},
   "source": [
    "## Note Taking Week 5:\n",
    "Fetch and others"
   ]
  },
  {
   "cell_type": "markdown",
   "metadata": {},
   "source": [
    "### Material information week\n",
    "\n"
   ]
  },
  {
   "cell_type": "markdown",
   "metadata": {},
   "source": [
    "https://javascript.info/fetch\n",
    "\n",
    "https://javascript.info/fetch-crossorigin\n",
    "\n",
    "https://javascript.info/rest-parameters-spread\n",
    "\n",
    "https://blog.pshrmn.com/how-single-page-applications-work/\n",
    "\n",
    "https://gomakethings.com/the-problem-with-single-page-apps/"
   ]
  },
  {
   "cell_type": "markdown",
   "metadata": {},
   "source": [
    "## Readings"
   ]
  },
  {
   "cell_type": "markdown",
   "metadata": {},
   "source": [
    "### Fetch\n"
   ]
  },
  {
   "cell_type": "markdown",
   "metadata": {},
   "source": [
    "Send network requests to the server and load new information whenever it’s needed \n",
    "And all of that without reloading the page\n",
    "- Submit an order,\n",
    "- Load user information,\n",
    "- Receive latest updates from the server,"
   ]
  },
  {
   "cell_type": "markdown",
   "metadata": {},
   "source": [
    "Syntaxis\n",
    "url – the URL to access.\n",
    "options – optional parameters: method, headers etc."
   ]
  },
  {
   "cell_type": "code",
   "execution_count": 2,
   "metadata": {},
   "outputs": [
    {
     "data": {
      "text/plain": [
       "'javascript\\nlet response = await fetch(url);\\n\\nif (response.ok) { // if HTTP-status is 200-299\\n  // get the response body (the method explained below)\\n  let json = await response.json();\\n} else {\\n  alert(\"HTTP-Error: \" + response.status);\\n}\\n'"
      ]
     },
     "execution_count": 2,
     "metadata": {},
     "output_type": "execute_result"
    }
   ],
   "source": [
    "'''javascript\n",
    "let response = await fetch(url);\n",
    "\n",
    "if (response.ok) { // if HTTP-status is 200-299\n",
    "  // get the response body (the method explained below)\n",
    "  let json = await response.json();\n",
    "} else {\n",
    "  alert(\"HTTP-Error: \" + response.status);\n",
    "}\n",
    "'''"
   ]
  },
  {
   "cell_type": "markdown",
   "metadata": {},
   "source": [
    "Response properties:\n",
    "- response.status – HTTP code of the response,\n",
    "- response.ok – true if the status is 200-299.\n",
    "- response.headers – Map-like object with HTTP headers.\n",
    "\n",
    "Methods to get response body:\n",
    "- response.text() – return the response as text,\n",
    "- response.json() – parse the response as JSON object,\n",
    "- response.formData() – return the response as FormData object \n",
    "- response.blob() – return the response as Blob \n",
    "- response.arrayBuffer() – return the response as ArrayBuffer\n",
    "\n",
    "Fetch options:\n",
    "- method – HTTP-method,\n",
    "- headers – an object with request headers\n",
    "- body – the data to send (request body) as string, FormData, BufferSource, Blob or UrlSearchParams object."
   ]
  },
  {
   "cell_type": "markdown",
   "metadata": {},
   "source": [
    "## Fetch: Cross-Origin Requests"
   ]
  },
  {
   "cell_type": "markdown",
   "metadata": {},
   "source": [
    "Cross-origin requests – those sent to another domain (even a subdomain) or protocol or port – require special headers from the remote side.\n",
    "\n",
    "That policy is called “CORS”: Cross-Origin Resource Sharing."
   ]
  },
  {
   "cell_type": "code",
   "execution_count": 4,
   "metadata": {},
   "outputs": [
    {
     "data": {
      "text/plain": [
       "\"javascript\\n// 1. Declare the function to process the weather data\\nfunction gotWeather({ temperature, humidity }) {\\n  alert(`temperature: ${temperature}, humidity: ${humidity}`);\\n}\\n\\nlet script = document.createElement('script');\\nscript.src = `http://another.com/weather.json?callback=gotWeather`;\\ndocument.body.append(script);\\n\\n// The expected answer from the server looks like this:\\ngotWeather({\\n  temperature: 25,\\n  humidity: 78\\n});\\n\\n\""
      ]
     },
     "execution_count": 4,
     "metadata": {},
     "output_type": "execute_result"
    }
   ],
   "source": [
    "'''javascript\n",
    "// 1. Declare the function to process the weather data\n",
    "function gotWeather({ temperature, humidity }) {\n",
    "  alert(`temperature: ${temperature}, humidity: ${humidity}`);\n",
    "}\n",
    "\n",
    "let script = document.createElement('script');\n",
    "script.src = `http://another.com/weather.json?callback=gotWeather`;\n",
    "document.body.append(script);\n",
    "\n",
    "// The expected answer from the server looks like this:\n",
    "gotWeather({\n",
    "  temperature: 25,\n",
    "  humidity: 78\n",
    "});\n",
    "\n",
    "'''"
   ]
  },
  {
   "cell_type": "markdown",
   "metadata": {},
   "source": [
    "### Safe Request"
   ]
  },
  {
   "cell_type": "markdown",
   "metadata": {},
   "source": [
    "A request is safe if it satisfies two conditions:\n",
    "\n",
    "Safe method: GET, POST or HEAD\n",
    "Safe headers – the only allowed custom headers are:\n",
    "Accept,\n",
    "Accept-Language,\n",
    "Content-Language,\n",
    "Content-Type with the value application/x-www-form-urlencoded, multipart/form-data or text/plain."
   ]
  },
  {
   "cell_type": "markdown",
   "metadata": {},
   "source": [
    "### Response headers"
   ]
  },
  {
   "cell_type": "markdown",
   "metadata": {},
   "source": [
    "1. Cache-Control\n",
    "2. Content-Language\n",
    "3. Content-Length\n",
    "4. Content-Type\n",
    "5. Expires\n",
    "6. Last-Modified\n",
    "7. Pragma"
   ]
  },
  {
   "cell_type": "markdown",
   "metadata": {},
   "source": [
    "## How Single-Page Applications Work"
   ]
  },
  {
   "cell_type": "markdown",
   "metadata": {},
   "source": [
    "A single-page application (SPA) is a website that re-renders its content in response to navigation actions (e.g. clicking a link) without making a request to the server to fetch new HTML."
   ]
  },
  {
   "cell_type": "markdown",
   "metadata": {},
   "source": [
    "Route Matching\n",
    "Single-page application generally rely on a router.\n",
    "\n",
    "Routers are made up of routes, which describe the location that they should match. These can be static (/about) or dynamic (/album/:id, where the value of :id can be any number of possibilities) paths. The path-to-regexp package is a very popular solution for creating these paths."
   ]
  },
  {
   "cell_type": "code",
   "execution_count": 5,
   "metadata": {},
   "outputs": [
    {
     "data": {
      "text/plain": [
       "\"javascript\\n\\nconst routes = [\\n  { path: '/' },\\n  { path: '/about' },\\n  { path: '/album/:id' }\\n];\\n\\n\\n\""
      ]
     },
     "execution_count": 5,
     "metadata": {},
     "output_type": "execute_result"
    }
   ],
   "source": [
    "'''javascript\n",
    "\n",
    "const routes = [\n",
    "  { path: '/' },\n",
    "  { path: '/about' },\n",
    "  { path: '/album/:id' }\n",
    "];\n",
    "\n",
    "\n",
    "'''"
   ]
  },
  {
   "cell_type": "markdown",
   "metadata": {},
   "source": [
    "## The problem with single page appsThe problem with single page apps"
   ]
  },
  {
   "cell_type": "markdown",
   "metadata": {},
   "source": [
    "Single-page apps (or SPAs as they’re sometimes called) serve all of the code for an entire multi-UI app from a single index.html file.\n",
    "- Configure the server to point all paths on a domain back to the root index.html file. For example, todolist.com and todolist.com/lists should both point to the same file.\n",
    "- Suppress the default behavior when someone clicks a link that points to another page in the app.\n",
    "- Use more JavaScript—history.pushState()—to update the URL without triggering a page reload.\n",
    "- Match the URL against a map of routes, and serve the right content based on it.\n",
    "- If your URL has variable information in it (like a todolist ID, for example), parse that data out of the URL.\n",
    "- Detect when someone clicks the browser’s back button/forward button, and update the URL and UI.\n",
    "- Update the title element on the page.\n",
    "- Use even more JavaScript to dynamically focus the content area when the content changes (for screen-reader users)."
   ]
  },
  {
   "cell_type": "markdown",
   "metadata": {},
   "source": [
    "Why is better:\n",
    "\n",
    "- Support for the browser’s forward and backward buttons are baked in. You don’t need to do anything to make that work.\n",
    "- You don’t need to intercept clicks and determine if the clicked link points to an internal link or an external one. You just let them all resolve.\n",
    "- You don’t need to use complex regex patterns or another library to parse the URL and determine which view or UI to render. It’s baked into the markup already.\n",
    "- It’s simpler and easier to implement."
   ]
  },
  {
   "cell_type": "markdown",
   "metadata": {},
   "source": [
    "## Questions"
   ]
  },
  {
   "cell_type": "markdown",
   "metadata": {},
   "source": [
    "- No questions this week for the reading. But, I´m having troubles to with the labs because I do not know if we as a team are doing right or wrong the labs. Can you provide examples?"
   ]
  }
 ],
 "metadata": {
  "kernelspec": {
   "display_name": "base",
   "language": "python",
   "name": "python3"
  },
  "language_info": {
   "codemirror_mode": {
    "name": "ipython",
    "version": 3
   },
   "file_extension": ".py",
   "mimetype": "text/x-python",
   "name": "python",
   "nbconvert_exporter": "python",
   "pygments_lexer": "ipython3",
   "version": "3.8.8"
  }
 },
 "nbformat": 4,
 "nbformat_minor": 2
}
