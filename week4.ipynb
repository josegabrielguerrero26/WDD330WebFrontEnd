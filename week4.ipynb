{
 "cells": [
  {
   "cell_type": "markdown",
   "metadata": {},
   "source": [
    "## Note Taking Week 4:\n",
    "Debugging, coding and error handling"
   ]
  },
  {
   "cell_type": "markdown",
   "metadata": {},
   "source": [
    "### Material information week\n",
    "\n"
   ]
  },
  {
   "cell_type": "markdown",
   "metadata": {},
   "source": [
    "https://javascript.info/debugging-chrome\n",
    "\n",
    "https://javascript.info/coding-style\n",
    "\n",
    "https://javascript.info/try-catch"
   ]
  },
  {
   "cell_type": "markdown",
   "metadata": {},
   "source": [
    "## Readings"
   ]
  },
  {
   "cell_type": "markdown",
   "metadata": {},
   "source": [
    "### Debugging in the browser\n"
   ]
  },
  {
   "cell_type": "markdown",
   "metadata": {},
   "source": [
    "- is the process of finding and fixing errors within a script.\n",
    "- Special UI helps developer to trace errors\n",
    "- Chrome special tools\n",
    "    - F12\n",
    "    - sources panel"
   ]
  },
  {
   "cell_type": "markdown",
   "metadata": {},
   "source": [
    "Parts in Navigation\n",
    "\n",
    "- File Navigator images and files\n",
    "- Code editor: source code\n",
    "- JavaScript Debugging pane is for debugging"
   ]
  },
  {
   "cell_type": "markdown",
   "metadata": {},
   "source": [
    "1. Console\n",
    "2. Breakpoints: point to pause the code for inspection\n",
    "3. The command \"debugger \""
   ]
  },
  {
   "cell_type": "markdown",
   "metadata": {},
   "source": [
    "Look around"
   ]
  },
  {
   "cell_type": "markdown",
   "metadata": {},
   "source": [
    "- Watch: current values\n",
    "- call stack: nested chains\n",
    "- scope: current variables\n",
    "- Resume”: continue the execution, hotkey \n",
    "- Step: run the next command\n",
    "- Step Over: run the next command and don´t go into a function\n",
    "- step into: asynchronous call\n",
    "- Step out: continue execution till the end\n",
    "- Logging. console.log (testing points)"
   ]
  },
  {
   "cell_type": "markdown",
   "metadata": {},
   "source": [
    "### Coding Style"
   ]
  },
  {
   "cell_type": "markdown",
   "metadata": {},
   "source": [
    "- Our code must be as clean and easy to read as possible.\n",
    "- Opening and closing in the same line\n",
    "- space before the opening break\n",
    "- A brief code one line is allowed \n",
    "- Long code has to be split in readable size lines\n",
    "- Two kind of indent: 2 and 4 spaces\n",
    "- Semicolon after every statement \n",
    "- Nesting Levels avoid too many levels\n",
    "- Automatic Linters check the style of your code \n",
    "    1. JSLint – one of the first linters.\n",
    "    2. JSHint – more settings than JSLint.\n",
    "    3. ESLint – probably the newest one.\n"
   ]
  },
  {
   "cell_type": "markdown",
   "metadata": {},
   "source": [
    "### Error handling, \"try...catch\""
   ]
  },
  {
   "cell_type": "markdown",
   "metadata": {},
   "source": [
    "- Catch errors instead of the program died.\n"
   ]
  },
  {
   "cell_type": "code",
   "execution_count": null,
   "metadata": {},
   "outputs": [],
   "source": [
    "'''javascript\n",
    "try {\n",
    "\n",
    "  // code...\n",
    "\n",
    "} catch (err) {\n",
    "\n",
    "  // error handling\n",
    "\n",
    "}\n",
    "'''"
   ]
  },
  {
   "cell_type": "code",
   "execution_count": null,
   "metadata": {},
   "outputs": [],
   "source": [
    "'''javascript\n",
    "try {\n",
    "\n",
    "  alert('Start of try runs');  // (1) <--\n",
    "\n",
    "  lalala; // error, variable is not defined!\n",
    "\n",
    "  alert('End of try (never reached)');  // (2)\n",
    "\n",
    "} catch (err) {\n",
    "\n",
    "  alert(`Error has occurred!`); // (3) <--\n",
    "\n",
    "}\n",
    "'''"
   ]
  },
  {
   "cell_type": "markdown",
   "metadata": {},
   "source": [
    "## Questions"
   ]
  },
  {
   "cell_type": "markdown",
   "metadata": {},
   "source": [
    "- No questions this week"
   ]
  }
 ],
 "metadata": {
  "kernelspec": {
   "display_name": "base",
   "language": "python",
   "name": "python3"
  },
  "language_info": {
   "codemirror_mode": {
    "name": "ipython",
    "version": 3
   },
   "file_extension": ".py",
   "mimetype": "text/x-python",
   "name": "python",
   "nbconvert_exporter": "python",
   "pygments_lexer": "ipython3",
   "version": "3.8.8"
  }
 },
 "nbformat": 4,
 "nbformat_minor": 2
}
