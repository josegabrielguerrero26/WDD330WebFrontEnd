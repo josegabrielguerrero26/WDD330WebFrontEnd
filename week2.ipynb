{
 "cells": [
  {
   "cell_type": "markdown",
   "metadata": {},
   "source": [
    "## Note Taking Week 2:\n",
    " Modern Javascript Tutorial (javascript.info)"
   ]
  },
  {
   "cell_type": "markdown",
   "metadata": {},
   "source": [
    "### Material information week\n",
    "\n"
   ]
  },
  {
   "cell_type": "markdown",
   "metadata": {},
   "source": [
    "https://javascript.info/\n",
    "\n",
    "https://eloquentjavascript.net/index.html\n",
    "\n",
    "https://github.com/getify/You-Dont-Know-JS\n",
    "\n",
    "https://exploringjs.com/es6/index.html#toc_ch_overviews\n",
    "\n",
    "https://developer.mozilla.org/en-US/"
   ]
  },
  {
   "cell_type": "markdown",
   "metadata": {},
   "source": [
    "## Readings"
   ]
  },
  {
   "cell_type": "markdown",
   "metadata": {},
   "source": [
    "### Modifying the document\n",
    "https://javascript.info/modifying-document\n",
    "\n",
    "https://javascript.info/localstorage"
   ]
  },
  {
   "cell_type": "markdown",
   "metadata": {},
   "source": [
    "- base of living pages"
   ]
  },
  {
   "cell_type": "markdown",
   "metadata": {},
   "source": [
    "Example:"
   ]
  },
  {
   "cell_type": "markdown",
   "metadata": {},
   "source": [
    "\n",
    "<style>\n",
    ".alert {\n",
    "  padding: 15px;\n",
    "  border: 1px solid #d6e9c6;\n",
    "  border-radius: 4px;\n",
    "  color: #3c763d;\n",
    "  background-color: #dff0d8;\n",
    "}\n",
    "</style>\n",
    "\n",
    "<div class=\"alert\">\n",
    "  <strong>Hi there!</strong> You've read an important message.\n",
    "</div>"
   ]
  },
  {
   "cell_type": "markdown",
   "metadata": {},
   "source": [
    "Insertion Example: Display a alert\n",
    "```javascript\n",
    "<style>\n",
    ".alert {\n",
    "  padding: 15px;\n",
    "  border: 1px solid #d6e9c6;\n",
    "  border-radius: 4px;\n",
    "  color: #3c763d;\n",
    "  background-color: #dff0d8;\n",
    "}\n",
    "</style>\n",
    "\n",
    "<script>\n",
    "  let div = document.createElement('div');\n",
    "  div.className = \"alert\";\n",
    "  div.innerHTML = \"<strong>Hi there!</strong> You've read an important message.\";\n",
    "\n",
    "  document.body.append(div);\n",
    "</script>\n",
    "```"
   ]
  },
  {
   "cell_type": "markdown",
   "metadata": {},
   "source": [
    "Here are more insertion methods, they specify different places where to insert:\n",
    "```javascript\n",
    "node.append(...nodes or strings) – append nodes or strings at the end of node,\n",
    "node.prepend(...nodes or strings) – insert nodes or strings at the beginning of node,\n",
    "node.before(...nodes or strings) –- insert nodes or strings before node,\n",
    "node.after(...nodes or strings) –- insert nodes or strings after node,\n",
    "node.replaceWith(...nodes or strings) –- replaces node with the given nodes or strings.\n",
    "```"
   ]
  },
  {
   "cell_type": "markdown",
   "metadata": {},
   "source": [
    "### insertAdjacentHTML/Text/Element"
   ]
  },
  {
   "cell_type": "markdown",
   "metadata": {},
   "source": [
    "\n",
    "- \"beforebegin\" – insert html immediately before elem,\n",
    "\"- afterbegin\" – insert html into elem, at the beginning,\n",
    "- \"beforeend\" – insert html into elem, at the end,\n",
    "- \"afterend\" – insert html immediately after elem.\n",
    "\n",
    "<img src=\"../week2_1.jpg\" alt=\"\" style=\"height: 100px; width:100px;\"/>\n",
    "\n",
    "```` javascript\n",
    "\n",
    "<div id=\"div\"></div>\n",
    "<script>\n",
    "  div.insertAdjacentHTML('beforebegin', '<p>Hello</p>');\n",
    "  div.insertAdjacentHTML('afterend', '<p>Bye</p>');\n",
    "</script>\n",
    "``"
   ]
  },
  {
   "cell_type": "markdown",
   "metadata": {},
   "source": [
    "## Local Storage"
   ]
  },
  {
   "cell_type": "markdown",
   "metadata": {},
   "source": [
    "- storing objects\n",
    "- survive page refresh and full restart\n",
    "- Dont work like cookies, so they can save more\n",
    "- The limit is 5mb+, depends on the browser\n",
    "- Both key and value must be strings"
   ]
  },
  {
   "cell_type": "markdown",
   "metadata": {},
   "source": [
    "Properties\n",
    "\n",
    "- setItem(key, value) – store key/value pair.\n",
    "- getItem(key) – get the value by key.\n",
    "- removeItem(key) – remove the key with its value.\n",
    "- clear() – delete everything.\n",
    "- key(index) – get the key on a given position.\n",
    "- length – the number of stored items."
   ]
  },
  {
   "cell_type": "markdown",
   "metadata": {},
   "source": [
    "Example\n",
    "````javascript\n",
    "localStorage.setItem('test', 1);\n",
    "alert( localStorage.getItem('test') ); // 1"
   ]
  },
  {
   "cell_type": "markdown",
   "metadata": {},
   "source": [
    "Types of Storing\n",
    "- Looping over keys\n",
    "- String only\n",
    "- session storage\n",
    "- storage envent\n"
   ]
  },
  {
   "cell_type": "markdown",
   "metadata": {},
   "source": [
    "## Export and Import"
   ]
  },
  {
   "cell_type": "markdown",
   "metadata": {},
   "source": [
    "- different syntaxis"
   ]
  },
  {
   "cell_type": "markdown",
   "metadata": {},
   "source": [
    "Export \n",
    "````javascript\n",
    "// 📁 say.js\n",
    "function sayHi(user) {\n",
    "  alert(`Hello, ${user}!`);\n",
    "}\n",
    "\n",
    "function sayBye(user) {\n",
    "  alert(`Bye, ${user}!`);\n",
    "}\n",
    "\n",
    "export {sayHi, sayBye}; // a list of exported variables``"
   ]
  },
  {
   "cell_type": "markdown",
   "metadata": {},
   "source": [
    "Import\n",
    "````Javascript\n",
    "/ 📁 main.js\n",
    "import {sayHi, sayBye} from './say.js';\n",
    "\n",
    "sayHi('John'); // Hello, John!\n",
    "sayBye('John'); // Bye, John!\n",
    "``"
   ]
  },
  {
   "cell_type": "markdown",
   "metadata": {},
   "source": [
    "Other ways\n",
    "- Import as\n",
    "- Export as\n",
    "- Export default"
   ]
  },
  {
   "cell_type": "markdown",
   "metadata": {},
   "source": [
    "## Questions"
   ]
  },
  {
   "cell_type": "markdown",
   "metadata": {},
   "source": [
    "- I didnt understand the modifying of the tables from the first reading. \n"
   ]
  }
 ],
 "metadata": {
  "kernelspec": {
   "display_name": "base",
   "language": "python",
   "name": "python3"
  },
  "language_info": {
   "codemirror_mode": {
    "name": "ipython",
    "version": 3
   },
   "file_extension": ".py",
   "mimetype": "text/x-python",
   "name": "python",
   "nbconvert_exporter": "python",
   "pygments_lexer": "ipython3",
   "version": "3.8.8"
  }
 },
 "nbformat": 4,
 "nbformat_minor": 2
}
