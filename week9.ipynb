{
 "cells": [
  {
   "cell_type": "markdown",
   "metadata": {},
   "source": [
    "# Note Taking week 9"
   ]
  },
  {
   "cell_type": "markdown",
   "metadata": {},
   "source": [
    "### Material Information"
   ]
  },
  {
   "cell_type": "markdown",
   "metadata": {},
   "source": [
    "- Read 6.3 Variable Scope, Closure https://javascript.info/closure\n",
    "- Read 14.3 Currying https://javascript.info/closure\n",
    "- Read Web APIs: Drawing Graphics https://developer.mozilla.org/en-US/docs/Learn/JavaScript/Client-side_web_APIs/Drawing_graphics"
   ]
  },
  {
   "cell_type": "markdown",
   "metadata": {},
   "source": [
    "## Readings- Videos"
   ]
  },
  {
   "cell_type": "markdown",
   "metadata": {},
   "source": [
    "### Variable scope, closure"
   ]
  },
  {
   "cell_type": "markdown",
   "metadata": {},
   "source": [
    "- Variable can pass as a an argument\n",
    "- Called at any time\n",
    "- Function an be access outside of it\n"
   ]
  },
  {
   "cell_type": "markdown",
   "metadata": {},
   "source": [
    "CODE BLOCKS: variable declared inside only work inside\n",
    "\n",
    "NESTED FUNCTIONS: function inside another function."
   ]
  },
  {
   "cell_type": "code",
   "execution_count": 2,
   "metadata": {},
   "outputs": [
    {
     "data": {
      "text/plain": [
       "'javascript\\nfunction sayHiBye(firstName, lastName) {\\n\\n  // helper nested function to use below\\n  function getFullName() {\\n    return firstName + \" \" + lastName;\\n  }\\n\\n  alert( \"Hello, \" + getFullName() );\\n  alert( \"Bye, \" + getFullName() );\\n\\n}\\n'"
      ]
     },
     "execution_count": 2,
     "metadata": {},
     "output_type": "execute_result"
    }
   ],
   "source": [
    "'''javascript\n",
    "function sayHiBye(firstName, lastName) {\n",
    "\n",
    "  // helper nested function to use below\n",
    "  function getFullName() {\n",
    "    return firstName + \" \" + lastName;\n",
    "  }\n",
    "\n",
    "  alert( \"Hello, \" + getFullName() );\n",
    "  alert( \"Bye, \" + getFullName() );\n",
    "\n",
    "}\n",
    "'''\n"
   ]
  },
  {
   "cell_type": "markdown",
   "metadata": {},
   "source": [
    "Lexican environment\n",
    "1- Variables\n",
    "2- function declaration\n",
    "3- Inner and outer lexical\n",
    "4- Returning a fuction"
   ]
  },
  {
   "cell_type": "markdown",
   "metadata": {},
   "source": [
    "### Currying"
   ]
  },
  {
   "cell_type": "markdown",
   "metadata": {},
   "source": [
    "- Currying is an advanced technique of working with functions. \n",
    "- Currying is a transformation of functions that translates a function from callable as f(a, b, c) into callable as f(a)(b)(c).\n",
    "- Currying doesn’t call a function. It just transforms it.\n",
    "- "
   ]
  },
  {
   "cell_type": "code",
   "execution_count": 3,
   "metadata": {},
   "outputs": [
    {
     "data": {
      "text/plain": [
       "'javascript\\n\\nfunction curry(f) { // curry(f) does the currying transform\\n  return function(a) {\\n    return function(b) {\\n      return f(a, b);\\n    };\\n  };\\n}\\n\\n// usage\\nfunction sum(a, b) {\\n  return a + b;\\n}\\n\\nlet curriedSum = curry(sum);\\n\\nalert( curriedSum(1)(2) ); // 3\\n\\n\\n'"
      ]
     },
     "execution_count": 3,
     "metadata": {},
     "output_type": "execute_result"
    }
   ],
   "source": [
    "'''javascript\n",
    "\n",
    "function curry(f) { // curry(f) does the currying transform\n",
    "  return function(a) {\n",
    "    return function(b) {\n",
    "      return f(a, b);\n",
    "    };\n",
    "  };\n",
    "}\n",
    "\n",
    "// usage\n",
    "function sum(a, b) {\n",
    "  return a + b;\n",
    "}\n",
    "\n",
    "let curriedSum = curry(sum);\n",
    "\n",
    "alert( curriedSum(1)(2) ); // 3\n",
    "\n",
    "\n",
    "'''"
   ]
  },
  {
   "cell_type": "markdown",
   "metadata": {},
   "source": [
    "## Drawing graphics"
   ]
  },
  {
   "cell_type": "markdown",
   "metadata": {},
   "source": [
    "- The browser contains some very powerful graphics programming tools, from the Scalable Vector Graphics (SVG) language, to APIs for drawing on HTML.\n",
    "- to create a 2D or 3D scene on a web page, you need to start with an HTML \"Canvas\"element"
   ]
  },
  {
   "cell_type": "code",
   "execution_count": 4,
   "metadata": {},
   "outputs": [
    {
     "data": {
      "text/plain": [
       "'javascript\\n<canvas width=\"320\" height=\"240\"></canvas>\\n\\n'"
      ]
     },
     "execution_count": 4,
     "metadata": {},
     "output_type": "execute_result"
    }
   ],
   "source": [
    "'''javascript\n",
    "<canvas width=\"320\" height=\"240\"></canvas>\n",
    "\n",
    "'''"
   ]
  },
  {
   "cell_type": "markdown",
   "metadata": {},
   "source": [
    "Creating:\n",
    "First make a local copy of the 0_canvas_start directory. It contains three files:\n",
    "- \"index.html\"\n",
    "- \"script.js\"\n",
    "- \"style.css\"\n",
    "\n",
    "Open Index.html\n",
    "\n",
    "Open script.js"
   ]
  },
  {
   "cell_type": "markdown",
   "metadata": {},
   "source": [
    "- Drawing circles\n",
    "- Drawing Lines\n",
    "- text\n",
    "- images"
   ]
  },
  {
   "cell_type": "markdown",
   "metadata": {},
   "source": [
    "Looping \n",
    "- run canvas commands inside a for loop \n"
   ]
  },
  {
   "cell_type": "code",
   "execution_count": 5,
   "metadata": {},
   "outputs": [
    {
     "data": {
      "text/plain": [
       "'javascript\\nfunction degToRad(degrees) {\\n  return (degrees * Math.PI) / 180;\\n}\\n\\nfunction rand(min, max) {\\n  return Math.floor(Math.random() * (max - min + 1)) + min;\\n}\\n\\nlet length = 250;\\nlet moveOffset = 20;\\n\\nfor (let i = 0; i < length; i++) {}\\n'"
      ]
     },
     "execution_count": 5,
     "metadata": {},
     "output_type": "execute_result"
    }
   ],
   "source": [
    "'''javascript\n",
    "function degToRad(degrees) {\n",
    "  return (degrees * Math.PI) / 180;\n",
    "}\n",
    "\n",
    "function rand(min, max) {\n",
    "  return Math.floor(Math.random() * (max - min + 1)) + min;\n",
    "}\n",
    "\n",
    "let length = 250;\n",
    "let moveOffset = 20;\n",
    "\n",
    "for (let i = 0; i < length; i++) {}\n",
    "'''"
   ]
  },
  {
   "cell_type": "markdown",
   "metadata": {},
   "source": [
    "# Questions"
   ]
  },
  {
   "cell_type": "markdown",
   "metadata": {},
   "source": [
    "N/A"
   ]
  }
 ],
 "metadata": {
  "kernelspec": {
   "display_name": "base",
   "language": "python",
   "name": "python3"
  },
  "language_info": {
   "codemirror_mode": {
    "name": "ipython",
    "version": 3
   },
   "file_extension": ".py",
   "mimetype": "text/x-python",
   "name": "python",
   "nbconvert_exporter": "python",
   "pygments_lexer": "ipython3",
   "version": "3.8.8"
  }
 },
 "nbformat": 4,
 "nbformat_minor": 2
}
