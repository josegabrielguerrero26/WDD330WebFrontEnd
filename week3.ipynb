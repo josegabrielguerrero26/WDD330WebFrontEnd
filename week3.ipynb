{
 "cells": [
  {
   "cell_type": "markdown",
   "metadata": {},
   "source": [
    "## Note Taking Week 3:\n",
    "UX design, APIS"
   ]
  },
  {
   "cell_type": "markdown",
   "metadata": {},
   "source": [
    "### Material information week\n",
    "\n"
   ]
  },
  {
   "cell_type": "markdown",
   "metadata": {},
   "source": [
    "https://uxbert.com/10-mobile-ux-design-principles/#.Y3QWti-B1qs\n",
    "\n",
    "https://developer.mozilla.org/en-US/docs/Learn/JavaScript/Client-side_web_APIs/Introduction\n",
    "\n",
    "\n",
    "https://javascript.info/settimeout-setinterval"
   ]
  },
  {
   "cell_type": "markdown",
   "metadata": {},
   "source": [
    "## Readings"
   ]
  },
  {
   "cell_type": "markdown",
   "metadata": {},
   "source": [
    "### 10 MOBILE UX DESIGN PRINCIPLES YOU SHOULD KNOW\n"
   ]
  },
  {
   "cell_type": "markdown",
   "metadata": {},
   "source": [
    "- Smartphones users will be 6.1 billons.\n",
    "- Use in all industries"
   ]
  },
  {
   "cell_type": "markdown",
   "metadata": {},
   "source": [
    "Principles:\n",
    "\n",
    "- Learnability: How easily first-time users complete basic tasks.  \n",
    "- Efficiency: How quickly users perform basic tasks once they’ve learned the design.\n",
    "- Memorability: The ability of users to remember how to use the system.\n",
    "- Errors: The amount and severity of errors users make and how easily they can correct them.\n",
    "- Satisfaction: How pleasant the experience of using the design was."
   ]
  },
  {
   "cell_type": "markdown",
   "metadata": {},
   "source": [
    "1. Content Priorization : 8 seconds attention\n",
    "2. Intuitive: No patience, journey should be logical. No switching pages\n",
    "3. Touchscreen target sizes: 44pixel tall x 44 pixel wide, spacing\n",
    "4. User control: changing settings, \n",
    "5. Make interface element visible: contrast, background \n",
    "6. Hand control- left and right handed\n",
    "7. Minimize data input\n",
    "8. Seamless experience: reduce friction, minimizing steps, page loads\n",
    "9. Test your design: test and optimize"
   ]
  },
  {
   "cell_type": "markdown",
   "metadata": {},
   "source": [
    "### Introduction to web APIs"
   ]
  },
  {
   "cell_type": "markdown",
   "metadata": {},
   "source": [
    "Api allows developers to create complex functionality more easily. Take the complex code and provide easy syntax.\n",
    "There are two categories:\n",
    "\n",
    "1. Browser APIS: Built in web browser \n",
    "2.Third-party API: no built in web browser. have to retrieve information from somewhere else.\n",
    "\n",
    "- Apis for manipulating documents like DOM\n",
    "- Apis that fetch data from server\n",
    "- Api for drawing and manipulating graphics.\n",
    "- Apis audio video\n",
    "- Apis for client side storage\n",
    "\n",
    "\n",
    "\n"
   ]
  },
  {
   "cell_type": "markdown",
   "metadata": {},
   "source": [
    "Third party APIS\n",
    "Twitter, Mapquest, googlemaps, facebook, telegram, youtube, "
   ]
  },
  {
   "cell_type": "markdown",
   "metadata": {},
   "source": [
    "### Scheduling: setTimeout and setInterval"
   ]
  },
  {
   "cell_type": "markdown",
   "metadata": {},
   "source": [
    "Execute a function not right now, but at a certain time later. That’s called “scheduling a call”"
   ]
  },
  {
   "cell_type": "markdown",
   "metadata": {},
   "source": [
    "- setTimeout allows us to run a function once after the interval of time.\n",
    "- setInterval allows us to run a function repeatedly, starting after the interval of time, then repeating continuously at that interval."
   ]
  },
  {
   "cell_type": "code",
   "execution_count": 5,
   "metadata": {},
   "outputs": [
    {
     "data": {
      "text/plain": [
       "\"javascript\\nfunction sayHi() {\\n  alert('Hello');\\n}\\n\\nsetTimeout(sayHi, 1000);\\n\""
      ]
     },
     "execution_count": 5,
     "metadata": {},
     "output_type": "execute_result"
    }
   ],
   "source": [
    "'''javascript\n",
    "function sayHi() {\n",
    "  alert('Hello');\n",
    "}\n",
    "\n",
    "setTimeout(sayHi, 1000);\n",
    "'''"
   ]
  },
  {
   "cell_type": "code",
   "execution_count": 6,
   "metadata": {},
   "outputs": [
    {
     "data": {
      "text/plain": [
       "'javascript\\nfunction sayHi(phrase, who) {\\n  alert( phrase + \\', \\' + who );\\n}\\n\\nsetTimeout(sayHi, 1000, \"Hello\", \"John\"); // Hello, John\\n'"
      ]
     },
     "execution_count": 6,
     "metadata": {},
     "output_type": "execute_result"
    }
   ],
   "source": [
    "'''javascript\n",
    "function sayHi(phrase, who) {\n",
    "  alert( phrase + ', ' + who );\n",
    "}\n",
    "\n",
    "setTimeout(sayHi, 1000, \"Hello\", \"John\"); // Hello, John\n",
    "'''"
   ]
  },
  {
   "cell_type": "markdown",
   "metadata": {},
   "source": [
    "## Questions"
   ]
  },
  {
   "cell_type": "markdown",
   "metadata": {},
   "source": [
    "- Is there any good place where I can find more information about the use of APIS such as google maps or facebook?\n"
   ]
  }
 ],
 "metadata": {
  "kernelspec": {
   "display_name": "base",
   "language": "python",
   "name": "python3"
  },
  "language_info": {
   "codemirror_mode": {
    "name": "ipython",
    "version": 3
   },
   "file_extension": ".py",
   "mimetype": "text/x-python",
   "name": "python",
   "nbconvert_exporter": "python",
   "pygments_lexer": "ipython3",
   "version": "3.8.8"
  }
 },
 "nbformat": 4,
 "nbformat_minor": 2
}
