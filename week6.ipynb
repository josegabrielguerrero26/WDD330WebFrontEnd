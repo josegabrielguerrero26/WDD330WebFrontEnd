{
 "cells": [
  {
   "cell_type": "markdown",
   "metadata": {},
   "source": [
    "# Note Taking week 6"
   ]
  },
  {
   "cell_type": "markdown",
   "metadata": {},
   "source": [
    "### Material Information"
   ]
  },
  {
   "cell_type": "markdown",
   "metadata": {},
   "source": [
    "- Read 4.1 Form properties and methods https://javascript.info/form-elements\n",
    "- Read 4.4 Forms:Event and method submit https://javascript.info/forms-submit\n",
    "- Watch Using FormData Objects Effectively (13min) OR read 3.2 FormData https://www.youtube.com/watch?v=GWJhE7Licjs\n",
    "- Read MDN: Client-Side Form Validation https://developer.mozilla.org/en-US/docs/Learn/Forms/Form_validation"
   ]
  },
  {
   "cell_type": "markdown",
   "metadata": {},
   "source": [
    "## Readings"
   ]
  },
  {
   "cell_type": "markdown",
   "metadata": {},
   "source": [
    "### Form properties and methods"
   ]
  },
  {
   "cell_type": "markdown",
   "metadata": {},
   "source": [
    "Forms and control elements, such as \"input\" a lot of special properties and events.\n",
    "They are part of collections documents.forms.\n"
   ]
  },
  {
   "cell_type": "code",
   "execution_count": 1,
   "metadata": {},
   "outputs": [
    {
     "data": {
      "text/plain": [
       "'javascript\\ndocument.forms.my; // the form with name=\"my\"\\ndocument.forms[0]; // the first form in the document\\n'"
      ]
     },
     "execution_count": 1,
     "metadata": {},
     "output_type": "execute_result"
    }
   ],
   "source": [
    "'''javascript\n",
    "document.forms.my; // the form with name=\"my\"\n",
    "document.forms[0]; // the first form in the document\n",
    "'''"
   ]
  },
  {
   "cell_type": "markdown",
   "metadata": {},
   "source": [
    "**select and option**\n",
    "\n",
    "A \"select\" element has 3 important properties:\n",
    "\n",
    "- select.options – the collection of \"option\" subelements,\n",
    "- select.value – the value of the currently selected \"option\",\n",
    "- select.selectedIndex – the number of the currently selected \"option\"."
   ]
  },
  {
   "cell_type": "code",
   "execution_count": 2,
   "metadata": {},
   "outputs": [
    {
     "data": {
      "text/plain": [
       "'Javascript\\n<select id=\"select\">\\n  <option value=\"apple\">Apple</option>\\n  <option value=\"pear\">Pear</option>\\n  <option value=\"banana\">Banana</option>\\n</select>\\n\\n<script>\\n  // all three lines do the same thing\\n  select.options[2].selected = true;\\n  select.selectedIndex = 2;\\n  select.value = \\'banana\\';\\n  // please note: options start from zero, so index 2 means the 3rd option.\\n</script>\\n'"
      ]
     },
     "execution_count": 2,
     "metadata": {},
     "output_type": "execute_result"
    }
   ],
   "source": [
    "'''Javascript\n",
    "<select id=\"select\">\n",
    "  <option value=\"apple\">Apple</option>\n",
    "  <option value=\"pear\">Pear</option>\n",
    "  <option value=\"banana\">Banana</option>\n",
    "</select>\n",
    "\n",
    "<script>\n",
    "  // all three lines do the same thing\n",
    "  select.options[2].selected = true;\n",
    "  select.selectedIndex = 2;\n",
    "  select.value = 'banana';\n",
    "  // please note: options start from zero, so index 2 means the 3rd option.\n",
    "</script>\n",
    "'''"
   ]
  },
  {
   "cell_type": "markdown",
   "metadata": {},
   "source": [
    "example:"
   ]
  },
  {
   "cell_type": "code",
   "execution_count": 3,
   "metadata": {},
   "outputs": [
    {
     "data": {
      "text/plain": [
       "'javasript\\n\\n<select id=\"genres\">\\n  <option value=\"rock\">Rock</option>\\n  <option value=\"blues\" selected>Blues</option>\\n</select>\\n\\n<script>\\n  // 1)\\n  let selectedOption = genres.options[genres.selectedIndex];\\n  alert( selectedOption.value );\\n\\n  // 2)\\n  let newOption = new Option(\"Classic\", \"classic\");\\n  genres.append(newOption);\\n\\n  // 3)\\n  newOption.selected = true;\\n</script>\\n\\n\\n'"
      ]
     },
     "execution_count": 3,
     "metadata": {},
     "output_type": "execute_result"
    }
   ],
   "source": [
    "'''javasript\n",
    "\n",
    "<select id=\"genres\">\n",
    "  <option value=\"rock\">Rock</option>\n",
    "  <option value=\"blues\" selected>Blues</option>\n",
    "</select>\n",
    "\n",
    "<script>\n",
    "  // 1)\n",
    "  let selectedOption = genres.options[genres.selectedIndex];\n",
    "  alert( selectedOption.value );\n",
    "\n",
    "  // 2)\n",
    "  let newOption = new Option(\"Classic\", \"classic\");\n",
    "  genres.append(newOption);\n",
    "\n",
    "  // 3)\n",
    "  newOption.selected = true;\n",
    "</script>\n",
    "\n",
    "\n",
    "'''"
   ]
  },
  {
   "cell_type": "markdown",
   "metadata": {},
   "source": [
    "### Forms: event and method submit"
   ]
  },
  {
   "cell_type": "markdown",
   "metadata": {},
   "source": [
    "submit event triggers when submitted. Validate before sending it to the server\n",
    "form.submit()"
   ]
  },
  {
   "cell_type": "markdown",
   "metadata": {},
   "source": [
    "There are 2 methods: the easies is enter on an input field\n",
    "There is not always need of hitting a bottom. You can use enter "
   ]
  },
  {
   "cell_type": "code",
   "execution_count": 1,
   "metadata": {},
   "outputs": [
    {
     "data": {
      "text/plain": [
       "'javascript\\n<form onsubmit=\"alert(\\'submit!\\');return false\">\\n  First: Enter in the input field <input type=\"text\" value=\"text\"><br>\\n  Second: Click \"submit\": <input type=\"submit\" value=\"Submit\">\\n</form>\\n\\n\\n'"
      ]
     },
     "execution_count": 1,
     "metadata": {},
     "output_type": "execute_result"
    }
   ],
   "source": [
    "'''javascript\n",
    "<form onsubmit=\"alert('submit!');return false\">\n",
    "  First: Enter in the input field <input type=\"text\" value=\"text\"><br>\n",
    "  Second: Click \"submit\": <input type=\"submit\" value=\"Submit\">\n",
    "</form>\n",
    "\n",
    "\n",
    "'''"
   ]
  },
  {
   "cell_type": "markdown",
   "metadata": {},
   "source": [
    "## Using FormData Objects"
   ]
  },
  {
   "cell_type": "markdown",
   "metadata": {},
   "source": [
    "- Need to have a form in HTML with names attributes\n",
    "- In the JS file add a listening submit even: .addeventlistener('Submit', handleform)\n",
    "- PreventDefault to stop the page reload\n",
    "- with a for you can send the form to a server\n",
    "- The object can be converter to JSOn: CONVERTER JSON  "
   ]
  },
  {
   "cell_type": "markdown",
   "metadata": {},
   "source": [
    "## Client-side form validation\n"
   ]
  },
  {
   "cell_type": "markdown",
   "metadata": {},
   "source": [
    "- required form controls needs to be validated\n",
    "- client should be able to correct himself\n",
    "- It is important to have this in all fields:\n",
    "       \n",
    "        - To have the right data\n",
    "        - Protect user data\n",
    "        - Protect ourselves\n",
    "        "
   ]
  },
  {
   "cell_type": "markdown",
   "metadata": {},
   "source": [
    "Types of validation: Build in form and Javascript"
   ]
  },
  {
   "cell_type": "markdown",
   "metadata": {},
   "source": [
    "Build in:\n",
    "- required\n",
    "-minleght\n",
    "-min and max\n",
    "- type\n",
    "- patterns"
   ]
  },
  {
   "cell_type": "markdown",
   "metadata": {},
   "source": [
    "# Questions"
   ]
  },
  {
   "cell_type": "markdown",
   "metadata": {},
   "source": [
    "No for this weeks"
   ]
  },
  {
   "cell_type": "markdown",
   "metadata": {},
   "source": []
  }
 ],
 "metadata": {
  "kernelspec": {
   "display_name": "base",
   "language": "python",
   "name": "python3"
  },
  "language_info": {
   "codemirror_mode": {
    "name": "ipython",
    "version": 3
   },
   "file_extension": ".py",
   "mimetype": "text/x-python",
   "name": "python",
   "nbconvert_exporter": "python",
   "pygments_lexer": "ipython3",
   "version": "3.8.8"
  }
 },
 "nbformat": 4,
 "nbformat_minor": 2
}
