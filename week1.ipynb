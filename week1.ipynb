{
 "cells": [
  {
   "cell_type": "markdown",
   "metadata": {},
   "source": [
    "## Note Taking Week 1"
   ]
  },
  {
   "cell_type": "markdown",
   "metadata": {},
   "source": [
    "Material information week 1\n",
    "\n",
    "https://byui-cit.github.io/wdd330/prepare/info/week01.html\n",
    "\n",
    "Web Page with all the resources for Node and NPM\n",
    "#course Set up\n",
    "https://byui-cit.github.io/wdd330/resources/course-setup-v2.html\n",
    "\n",
    "##how to download Node, NPM, etc\n",
    "https://byui-cit.github.io/advcss/lesson01/l01-software.html\n",
    "\n",
    "##Using command line\n",
    "https://byui-cit.github.io/advcss/resources/cmd-line-pc.html\n",
    "\n",
    "##Git hub Information\n",
    "https://github.com/skills/introduction-to-github"
   ]
  }
 ],
 "metadata": {
  "kernelspec": {
   "display_name": "base",
   "language": "python",
   "name": "python3"
  },
  "language_info": {
   "codemirror_mode": {
    "name": "ipython",
    "version": 3
   },
   "file_extension": ".py",
   "mimetype": "text/x-python",
   "name": "python",
   "nbconvert_exporter": "python",
   "pygments_lexer": "ipython3",
   "version": "3.8.8"
  }
 },
 "nbformat": 4,
 "nbformat_minor": 2
}
