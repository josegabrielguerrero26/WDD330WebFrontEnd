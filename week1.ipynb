{
 "cells": [
  {
   "cell_type": "markdown",
   "metadata": {},
   "source": [
    "## Note Taking Week 1"
   ]
  },
  {
   "cell_type": "markdown",
   "metadata": {},
   "source": [
    "### Material information week 1\n",
    "\n"
   ]
  },
  {
   "cell_type": "markdown",
   "metadata": {},
   "source": [
    "https://byui-cit.github.io/wdd330/prepare/info/week01.html\n",
    "\n",
    "Web Page with all the resources for Node and NPM\n",
    "#course Set up\n",
    "https://byui-cit.github.io/wdd330/resources/course-setup-v2.html\n",
    "\n",
    "##how to download Node, NPM, etc\n",
    "https://byui-cit.github.io/advcss/lesson01/l01-software.html\n",
    "\n",
    "##Using command line\n",
    "https://byui-cit.github.io/advcss/resources/cmd-line-pc.html\n",
    "\n",
    "##Git hub Information\n",
    "https://github.com/skills/introduction-to-github"
   ]
  },
  {
   "cell_type": "markdown",
   "metadata": {},
   "source": [
    "### Syllabus:"
   ]
  },
  {
   "cell_type": "markdown",
   "metadata": {},
   "source": [
    "\n",
    "-Heavily in personal peace and group activities.\n",
    "-I have revise the followings: JavaScript, Arrays(.forEach(), .map(), .filter(), and .sort(). MDN Functions and Manipulation.\n",
    "\n",
    "\n",
    "\n",
    "\n",
    "\n"
   ]
  },
  {
   "cell_type": "markdown",
   "metadata": {},
   "source": [
    "### Working with Group:"
   ]
  },
  {
   "cell_type": "markdown",
   "metadata": {},
   "source": [
    "- Using GitHub\n",
    "- Meeting twice a week\n",
    "- PM Use Trello\n",
    "- Be part of a team"
   ]
  },
  {
   "cell_type": "markdown",
   "metadata": {},
   "source": [
    "### Managing the Modern Frontend Workflow"
   ]
  },
  {
   "cell_type": "markdown",
   "metadata": {},
   "source": [
    "- Tolls for managing changes Package manager, Bundlers, task manager"
   ]
  },
  {
   "cell_type": "markdown",
   "metadata": {},
   "source": [
    "### Course Set up"
   ]
  },
  {
   "cell_type": "markdown",
   "metadata": {},
   "source": [
    "https://byui-cit.github.io/wdd330/resources/course-setup-v2.html\n",
    "- Use of VSC\n",
    "- USe of NODE- NPM\n",
    "- Use Git and Github\n",
    "- Teams\n",
    "- Trello"
   ]
  },
  {
   "cell_type": "markdown",
   "metadata": {},
   "source": [
    "### Questions"
   ]
  },
  {
   "cell_type": "markdown",
   "metadata": {},
   "source": [
    "-What is the NP version we are going to use? "
   ]
  }
 ],
 "metadata": {
  "kernelspec": {
   "display_name": "base",
   "language": "python",
   "name": "python3"
  },
  "language_info": {
   "codemirror_mode": {
    "name": "ipython",
    "version": 3
   },
   "file_extension": ".py",
   "mimetype": "text/x-python",
   "name": "python",
   "nbconvert_exporter": "python",
   "pygments_lexer": "ipython3",
   "version": "3.8.8"
  }
 },
 "nbformat": 4,
 "nbformat_minor": 2
}
